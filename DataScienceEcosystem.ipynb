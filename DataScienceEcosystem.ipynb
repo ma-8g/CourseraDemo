{
 "cells": [
  {
   "cell_type": "markdown",
   "id": "663d5419-3cfc-4e44-910b-79ffbe9f4f88",
   "metadata": {},
   "source": [
    "#  Data Science Tools and Ecosystem"
   ]
  },
  {
   "cell_type": "markdown",
   "id": "61efb1ff-fc3a-4f22-87ad-1e27b5f2917a",
   "metadata": {},
   "source": [
    "このノートブックでは、データサイエンスツールとエコシステムがまとめられています。"
   ]
  },
  {
   "cell_type": "markdown",
   "id": "9954aa6c-45c8-410a-8297-84df116a030b",
   "metadata": {},
   "source": [
    "**目的:**\n",
    "- データサイエンティストが使用する一般的な言語\n",
    "- データサイエンティストが使用する一般的なライブラリ\n",
    "- データサイエンスツール"
   ]
  },
  {
   "cell_type": "markdown",
   "id": "1ae9796c-6cc2-4957-a7fd-b930393060a8",
   "metadata": {},
   "source": [
    "データサイエンティストが使用する一般的な言語のいくつかは次のとおりです:\n",
    "1. Python\n",
    "2. R\n",
    "3. Julia"
   ]
  },
  {
   "cell_type": "markdown",
   "id": "1218efcd-1054-4e7c-bd63-afde2c188968",
   "metadata": {},
   "source": [
    "データサイエンティストが使用する一般的なライブラリには次のようなものがあります:\n",
    "1. データ操作用のdplyr\n",
    "2. 文字列操作用の stringr\n",
    "3. データの視覚化用の ggplot\n",
    "4. 機械学習用の caret\n"
   ]
  },
  {
   "cell_type": "markdown",
   "id": "8f2421e8-064e-4078-a418-6a52468277d9",
   "metadata": {},
   "source": [
    "|データサイエンスツール|\n",
    "| --- |\n",
    "|VS Code|\n",
    "|Anaconda|\n",
    "|JupyterLab|"
   ]
  },
  {
   "cell_type": "markdown",
   "id": "a0d3ddcf-b057-40ce-b0bb-24a55f3ca8e1",
   "metadata": {},
   "source": [
    "### 以下は、Pythonで算術式を評価するいくつかの例です。"
   ]
  },
  {
   "cell_type": "code",
   "execution_count": 2,
   "id": "c36aee49-7c96-4917-8b5c-f4e6af491838",
   "metadata": {},
   "outputs": [
    {
     "data": {
      "text/plain": [
       "17"
      ]
     },
     "execution_count": 2,
     "metadata": {},
     "output_type": "execute_result"
    }
   ],
   "source": [
    "# これは整数を掛けてから加算する簡単な算術式です\n",
    "(3*4)+5"
   ]
  },
  {
   "cell_type": "code",
   "execution_count": 3,
   "id": "01d94dea-ea07-49fd-a282-a04023ae2dc3",
   "metadata": {},
   "outputs": [
    {
     "data": {
      "text/plain": [
       "3.3333333333333335"
      ]
     },
     "execution_count": 3,
     "metadata": {},
     "output_type": "execute_result"
    }
   ],
   "source": [
    "# これは200分を60で割って時間に変換します\n",
    "200 / 60"
   ]
  },
  {
   "cell_type": "markdown",
   "id": "68e357a1-174b-44e7-9271-93e2b93788d6",
   "metadata": {},
   "source": [
    "## 著者\n",
    "Kenichiro Takarada"
   ]
  }
 ],
 "metadata": {
  "kernelspec": {
   "display_name": "Python 3 (ipykernel)",
   "language": "python",
   "name": "python3"
  },
  "language_info": {
   "codemirror_mode": {
    "name": "ipython",
    "version": 3
   },
   "file_extension": ".py",
   "mimetype": "text/x-python",
   "name": "python",
   "nbconvert_exporter": "python",
   "pygments_lexer": "ipython3",
   "version": "3.13.5"
  }
 },
 "nbformat": 4,
 "nbformat_minor": 5
}
